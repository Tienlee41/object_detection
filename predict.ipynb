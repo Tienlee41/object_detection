{
 "cells": [
  {
   "cell_type": "markdown",
   "id": "4b1e935c",
   "metadata": {
    "papermill": {
     "duration": 0.034305,
     "end_time": "2025-06-12T11:17:52.905561",
     "exception": false,
     "start_time": "2025-06-12T11:17:52.871256",
     "status": "completed"
    },
    "tags": []
   },
   "source": [
    "# Predict and create submission file"
   ]
  },
  {
   "cell_type": "code",
   "execution_count": 16,
   "id": "012f0afa",
   "metadata": {
    "execution": {
     "iopub.execute_input": "2025-06-12T11:17:52.975033Z",
     "iopub.status.busy": "2025-06-12T11:17:52.974773Z",
     "iopub.status.idle": "2025-06-12T11:17:58.573379Z",
     "shell.execute_reply": "2025-06-12T11:17:58.572441Z"
    },
    "papermill": {
     "duration": 5.635191,
     "end_time": "2025-06-12T11:17:58.575044",
     "exception": false,
     "start_time": "2025-06-12T11:17:52.939853",
     "status": "completed"
    },
    "tags": []
   },
   "outputs": [
    {
     "name": "stdout",
     "output_type": "stream",
     "text": [
      "Creating new Ultralytics Settings v0.0.6 file ✅ \n",
      "View Ultralytics Settings with 'yolo settings' or at '/root/.config/Ultralytics/settings.json'\n",
      "Update Settings with 'yolo settings key=value', i.e. 'yolo settings runs_dir=path/to/dir'. For help see https://docs.ultralytics.com/quickstart/#ultralytics-settings.\n"
     ]
    }
   ],
   "source": [
    "from ultralytics import YOLO\n",
    "model = YOLO(\"/kaggle/input/yolov11l100e/pytorch/default/1/best (6).pt\")"
   ]
  },
  {
   "cell_type": "code",
   "execution_count": 17,
   "id": "8da047e1",
   "metadata": {
    "execution": {
     "iopub.execute_input": "2025-06-12T11:17:58.648396Z",
     "iopub.status.busy": "2025-06-12T11:17:58.648045Z",
     "iopub.status.idle": "2025-06-12T11:17:58.652047Z",
     "shell.execute_reply": "2025-06-12T11:17:58.651341Z"
    },
    "papermill": {
     "duration": 0.041306,
     "end_time": "2025-06-12T11:17:58.653152",
     "exception": false,
     "start_time": "2025-06-12T11:17:58.611846",
     "status": "completed"
    },
    "tags": []
   },
   "outputs": [],
   "source": [
    "LABELS = {i: i for i in range(6)}"
   ]
  },
  {
   "cell_type": "code",
   "execution_count": 18,
   "id": "03508f78",
   "metadata": {
    "execution": {
     "iopub.execute_input": "2025-06-12T11:17:58.723029Z",
     "iopub.status.busy": "2025-06-12T11:17:58.722784Z",
     "iopub.status.idle": "2025-06-12T11:19:30.466629Z",
     "shell.execute_reply": "2025-06-12T11:19:30.466024Z"
    },
    "papermill": {
     "duration": 91.780425,
     "end_time": "2025-06-12T11:19:30.468071",
     "exception": false,
     "start_time": "2025-06-12T11:17:58.687646",
     "status": "completed"
    },
    "tags": []
   },
   "outputs": [],
   "source": [
    "import os\n",
    "import shutil\n",
    "import json\n",
    "from glob import glob\n",
    "import pandas as pd\n",
    "import cv2\n",
    "\n",
    "results = model.predict(\n",
    "    source=test_img_dir,\n",
    "    imgsz=640,\n",
    "    conf=0,\n",
    "    iou=0.6,\n",
    "    augment=True,\n",
    "    save=False,\n",
    "    stream=True,\n",
    "    batch=16,\n",
    "    device=\"0\",\n",
    "    verbose=False,\n",
    ")\n",
    "\n",
    "image_predictions_map = {}\n",
    "\n",
    "all_test_images = sorted(glob(os.path.join(test_img_dir, '*.jpg')))\n",
    "all_test_image_names = [os.path.basename(p) for p in all_test_images]\n",
    "\n",
    "for img_name, result in zip(all_test_image_names, results):\n",
    "    image_stem = img_name.replace('.jpg', '')\n",
    "    img_path = os.path.join(test_img_dir, img_name)\n",
    "    img_h, img_w = cv2.imread(img_path).shape[:2]\n",
    "\n",
    "    boxes = []\n",
    "    if result.boxes is not None and result.boxes.xyxy is not None:\n",
    "        box_array = result.boxes.xyxy.cpu().numpy()\n",
    "        conf_array = result.boxes.conf.cpu().numpy()\n",
    "        class_array = result.boxes.cls.cpu().numpy()\n",
    "\n",
    "        for (x_min, y_min, x_max, y_max), conf, class_id in zip(box_array, conf_array, class_array):\n",
    "            x_min = max(0.0, x_min)\n",
    "            y_min = max(0.0, y_min)\n",
    "            x_max = min(float(img_w), x_max)\n",
    "            y_max = min(float(img_h), y_max)\n",
    "\n",
    "            if x_max > x_min and y_max > y_min:\n",
    "                original_id = LABELS.get(int(class_id), int(class_id))\n",
    "                boxes.append({\n",
    "                    \"x_min\": float(x_min),\n",
    "                    \"y_min\": float(y_min),\n",
    "                    \"x_max\": float(x_max),\n",
    "                    \"y_max\": float(y_max),\n",
    "                    \"class\": int(original_id),\n",
    "                    \"confidence\": float(conf)\n",
    "                })\n",
    "\n",
    "    image_predictions_map[image_stem] = boxes\n",
    "\n",
    "\n",
    "submission_rows = []\n",
    "for img_stem in all_test_image_names:\n",
    "    stem = img_stem.replace('.jpg', '')\n",
    "    submission_rows.append({\n",
    "        \"image_id\": stem,\n",
    "        \"bounding_boxes\": json.dumps(image_predictions_map.get(stem, []))\n",
    "    })\n",
    "\n",
    "submission_df = pd.DataFrame(submission_rows)\n",
    "submission_path = '/kaggle/working/submission.csv'\n",
    "submission_df.to_csv(submission_path, index=False)"
   ]
  }
 ],
 "metadata": {
  "kaggle": {
   "accelerator": "nvidiaTeslaT4",
   "dataSources": [
    {
     "databundleVersionId": 12292490,
     "sourceId": 102060,
     "sourceType": "competition"
    },
    {
     "modelId": 373902,
     "modelInstanceId": 352623,
     "sourceId": 432540,
     "sourceType": "modelInstanceVersion"
    }
   ],
   "dockerImageVersionId": 31041,
   "isGpuEnabled": true,
   "isInternetEnabled": true,
   "language": "python",
   "sourceType": "notebook"
  },
  "kernelspec": {
   "display_name": "Python 3",
   "language": "python",
   "name": "python3"
  },
  "language_info": {
   "codemirror_mode": {
    "name": "ipython",
    "version": 3
   },
   "file_extension": ".py",
   "mimetype": "text/x-python",
   "name": "python",
   "nbconvert_exporter": "python",
   "pygments_lexer": "ipython3",
   "version": "3.11.11"
  },
  "papermill": {
   "default_parameters": {},
   "duration": 293.695166,
   "end_time": "2025-06-12T11:19:31.926120",
   "environment_variables": {},
   "exception": null,
   "input_path": "__notebook__.ipynb",
   "output_path": "__notebook__.ipynb",
   "parameters": {},
   "start_time": "2025-06-12T11:14:38.230954",
   "version": "2.6.0"
  }
 },
 "nbformat": 4,
 "nbformat_minor": 5
}
